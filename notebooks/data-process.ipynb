{
 "cells": [
  {
   "cell_type": "code",
   "execution_count": 1,
   "id": "44caf4f9",
   "metadata": {},
   "outputs": [],
   "source": [
    "import os\n",
    "import pandas as pd\n",
    "import numpy as np\n",
    "import matplotlib.pyplot as plt\n",
    "import seaborn as sns\n"
   ]
  },
  {
   "cell_type": "code",
   "execution_count": 2,
   "id": "318d206c",
   "metadata": {},
   "outputs": [],
   "source": [
    "import sys\n",
    "sys.path.append(\"/home/moon/project/prediction-project\")"
   ]
  },
  {
   "cell_type": "code",
   "execution_count": 9,
   "metadata": {},
   "outputs": [],
   "source": [
    "e = pd.read_csv(\"../data/raw/solar/energy.csv\")\n",
    "\n",
    "power = e[\"ulsan\"].values\n"
   ]
  },
  {
   "cell_type": "code",
   "execution_count": 10,
   "id": "2e0600fb",
   "metadata": {},
   "outputs": [],
   "source": [
    "def convert_time(x):\n",
    "    Ymd, HMS = x.split(' ')\n",
    "    H, M, S = HMS.split(':')\n",
    "    H = str(int(H)-1)\n",
    "    HMS = ':'.join([H, M, S])\n",
    "    return ' '.join([Ymd, HMS])\n",
    "\n",
    "e['time'] = e['time'].apply(lambda x:convert_time(x))"
   ]
  },
  {
   "cell_type": "code",
   "execution_count": 12,
   "id": "037aa2bc",
   "metadata": {},
   "outputs": [],
   "source": [
    "def add_random_noise(data, noise_level=0.1, seed=None):\n",
    "    \"\"\"\n",
    "    Add random Gaussian noise to non-zero elements.\n",
    "    Args:\n",
    "        data: list or array of data values\n",
    "        noise_level: fraction of standard deviation relative to value\n",
    "        seed: random seed for reproducibility\n",
    "    Returns:\n",
    "        np.array with noise\n",
    "    \"\"\"\n",
    "    if seed is not None:\n",
    "        np.random.seed(seed)\n",
    "    data = np.array(data)\n",
    "    noise = np.where(data > 0, np.random.normal(0, noise_level * data), 0)\n",
    "    return np.clip(data + noise, a_min=0, a_max=None)"
   ]
  },
  {
   "cell_type": "code",
   "execution_count": 13,
   "id": "582e0774",
   "metadata": {},
   "outputs": [],
   "source": [
    "df = pd.DataFrame()\n",
    "\n",
    "for i in range(0, 5):\n",
    "    df_temp = pd.DataFrame()\n",
    "    df_temp[\"datetime\"] = e[\"time\"]\n",
    "    df_temp[\"id\"] = i + 1\n",
    "    add_random_noised_power = add_random_noise(power, noise_level=0.1, seed=i)\n",
    "    df_temp[\"power\"] = add_random_noised_power\n",
    "    \n",
    "    \n",
    "    df = pd.concat([df, df_temp], axis=0, ignore_index=True)\n",
    "    \n"
   ]
  },
  {
   "cell_type": "code",
   "execution_count": 14,
   "id": "5f52e820",
   "metadata": {},
   "outputs": [
    {
     "data": {
      "text/html": [
       "<div>\n",
       "<style scoped>\n",
       "    .dataframe tbody tr th:only-of-type {\n",
       "        vertical-align: middle;\n",
       "    }\n",
       "\n",
       "    .dataframe tbody tr th {\n",
       "        vertical-align: top;\n",
       "    }\n",
       "\n",
       "    .dataframe thead th {\n",
       "        text-align: right;\n",
       "    }\n",
       "</style>\n",
       "<table border=\"1\" class=\"dataframe\">\n",
       "  <thead>\n",
       "    <tr style=\"text-align: right;\">\n",
       "      <th></th>\n",
       "      <th>datetime</th>\n",
       "      <th>id</th>\n",
       "      <th>power</th>\n",
       "    </tr>\n",
       "  </thead>\n",
       "  <tbody>\n",
       "    <tr>\n",
       "      <th>0</th>\n",
       "      <td>2018-03-01 0:00:00</td>\n",
       "      <td>1</td>\n",
       "      <td>0.0</td>\n",
       "    </tr>\n",
       "    <tr>\n",
       "      <th>1</th>\n",
       "      <td>2018-03-01 1:00:00</td>\n",
       "      <td>1</td>\n",
       "      <td>0.0</td>\n",
       "    </tr>\n",
       "    <tr>\n",
       "      <th>2</th>\n",
       "      <td>2018-03-01 2:00:00</td>\n",
       "      <td>1</td>\n",
       "      <td>0.0</td>\n",
       "    </tr>\n",
       "    <tr>\n",
       "      <th>3</th>\n",
       "      <td>2018-03-01 3:00:00</td>\n",
       "      <td>1</td>\n",
       "      <td>0.0</td>\n",
       "    </tr>\n",
       "    <tr>\n",
       "      <th>4</th>\n",
       "      <td>2018-03-01 4:00:00</td>\n",
       "      <td>1</td>\n",
       "      <td>0.0</td>\n",
       "    </tr>\n",
       "    <tr>\n",
       "      <th>...</th>\n",
       "      <td>...</td>\n",
       "      <td>...</td>\n",
       "      <td>...</td>\n",
       "    </tr>\n",
       "    <tr>\n",
       "      <th>128155</th>\n",
       "      <td>2021-01-31 19:00:00</td>\n",
       "      <td>5</td>\n",
       "      <td>0.0</td>\n",
       "    </tr>\n",
       "    <tr>\n",
       "      <th>128156</th>\n",
       "      <td>2021-01-31 20:00:00</td>\n",
       "      <td>5</td>\n",
       "      <td>0.0</td>\n",
       "    </tr>\n",
       "    <tr>\n",
       "      <th>128157</th>\n",
       "      <td>2021-01-31 21:00:00</td>\n",
       "      <td>5</td>\n",
       "      <td>0.0</td>\n",
       "    </tr>\n",
       "    <tr>\n",
       "      <th>128158</th>\n",
       "      <td>2021-01-31 22:00:00</td>\n",
       "      <td>5</td>\n",
       "      <td>0.0</td>\n",
       "    </tr>\n",
       "    <tr>\n",
       "      <th>128159</th>\n",
       "      <td>2021-01-31 23:00:00</td>\n",
       "      <td>5</td>\n",
       "      <td>0.0</td>\n",
       "    </tr>\n",
       "  </tbody>\n",
       "</table>\n",
       "<p>128160 rows × 3 columns</p>\n",
       "</div>"
      ],
      "text/plain": [
       "                   datetime  id  power\n",
       "0        2018-03-01 0:00:00   1    0.0\n",
       "1        2018-03-01 1:00:00   1    0.0\n",
       "2        2018-03-01 2:00:00   1    0.0\n",
       "3        2018-03-01 3:00:00   1    0.0\n",
       "4        2018-03-01 4:00:00   1    0.0\n",
       "...                     ...  ..    ...\n",
       "128155  2021-01-31 19:00:00   5    0.0\n",
       "128156  2021-01-31 20:00:00   5    0.0\n",
       "128157  2021-01-31 21:00:00   5    0.0\n",
       "128158  2021-01-31 22:00:00   5    0.0\n",
       "128159  2021-01-31 23:00:00   5    0.0\n",
       "\n",
       "[128160 rows x 3 columns]"
      ]
     },
     "execution_count": 14,
     "metadata": {},
     "output_type": "execute_result"
    }
   ],
   "source": [
    "df"
   ]
  },
  {
   "cell_type": "code",
   "execution_count": 15,
   "id": "e1e91251",
   "metadata": {},
   "outputs": [],
   "source": [
    "df.to_csv(\"../data/raw/solar/solars.csv\", index=False)"
   ]
  },
  {
   "cell_type": "code",
   "execution_count": 16,
   "id": "c047e9ff",
   "metadata": {},
   "outputs": [],
   "source": [
    "w = pd.read_csv(\"../data/raw/solar/ulsan_obs_data.csv\")"
   ]
  },
  {
   "cell_type": "code",
   "execution_count": 18,
   "id": "cc460d68",
   "metadata": {},
   "outputs": [],
   "source": [
    "w.columns = ['a', 'b', \"datetime\", \"temperature\", \"wind_speed\", \"wind_direction\", \"humidity\", \"cloud\"]"
   ]
  },
  {
   "cell_type": "code",
   "execution_count": 20,
   "id": "88d2427a",
   "metadata": {},
   "outputs": [],
   "source": [
    "w.drop(columns=[\"a\", \"b\"], inplace=True)"
   ]
  },
  {
   "cell_type": "code",
   "execution_count": 22,
   "id": "e4d6c0f2",
   "metadata": {},
   "outputs": [],
   "source": [
    "def convert_cloudy(df: pd.DataFrame, column: str, Forecast: bool = False):\n",
    "    df = df.copy()\n",
    "    cloudy = df[column].copy()\n",
    "\n",
    "    if not Forecast:\n",
    "        for i in range(len(cloudy)):\n",
    "            if cloudy.iloc[i] <= 5:\n",
    "                cloudy.iloc[i] = \"Clear\"\n",
    "            elif cloudy.iloc[i] <= 8:\n",
    "                cloudy.iloc[i] = \"Cloudy\"\n",
    "            else:\n",
    "                cloudy.iloc[i] = \"Mostly\"\n",
    "    else:\n",
    "        for i in range(len(cloudy)):\n",
    "            if cloudy.iloc[i] <= 2:\n",
    "                cloudy.iloc[i] = \"Clear\"\n",
    "            elif cloudy.iloc[i] <= 3:\n",
    "                cloudy.iloc[i] = \"Cloudy\"\n",
    "            else:\n",
    "                cloudy.iloc[i] = \"Mostly\"\n",
    "    df[column] = cloudy\n",
    "\n",
    "    return df"
   ]
  },
  {
   "cell_type": "code",
   "execution_count": 23,
   "id": "b4e8134d",
   "metadata": {},
   "outputs": [
    {
     "name": "stderr",
     "output_type": "stream",
     "text": [
      "/tmp/ipykernel_210989/2810403767.py:12: FutureWarning: Setting an item of incompatible dtype is deprecated and will raise an error in a future version of pandas. Value 'Mostly' has dtype incompatible with float64, please explicitly cast to a compatible dtype first.\n",
      "  cloudy.iloc[i] = \"Mostly\"\n"
     ]
    }
   ],
   "source": [
    "w = convert_cloudy(w, \"cloud\", Forecast=False)"
   ]
  },
  {
   "cell_type": "code",
   "execution_count": 25,
   "id": "f434f37e",
   "metadata": {},
   "outputs": [],
   "source": [
    "w.to_csv(\"../data/raw/solar/weather.csv\", index=False)"
   ]
  },
  {
   "cell_type": "code",
   "execution_count": 4,
   "id": "ed45640f",
   "metadata": {},
   "outputs": [],
   "source": [
    "l = pd.read_csv(\"../data/raw/load/loadexample.csv\")"
   ]
  },
  {
   "cell_type": "code",
   "execution_count": 5,
   "id": "a0152ba6",
   "metadata": {},
   "outputs": [],
   "source": [
    "load = pd.DataFrame()"
   ]
  },
  {
   "cell_type": "code",
   "execution_count": 6,
   "id": "199f32bc",
   "metadata": {},
   "outputs": [],
   "source": [
    "load[\"load\"] = l[\"Load\"].values\n",
    "load[\"id\"] = 1\n",
    "load[\"id\"] = load[\"id\"].astype(int)\n",
    "load[\"load\"] = load[\"load\"].astype(float)\n",
    "load[[\"id\", \"load\"]].to_csv(\"../data/raw/load/load.csv\", index=False)"
   ]
  },
  {
   "cell_type": "code",
   "execution_count": 38,
   "id": "258c1ab9",
   "metadata": {},
   "outputs": [],
   "source": [
    "l.drop(columns=[\"Load\", \"is_hol\"], inplace=True)"
   ]
  },
  {
   "cell_type": "code",
   "execution_count": 40,
   "id": "9245acde",
   "metadata": {},
   "outputs": [],
   "source": [
    "l.rename(columns={\"timestamp\": \"datetime\"}, inplace=True)"
   ]
  },
  {
   "cell_type": "code",
   "execution_count": 42,
   "id": "f0d301e6",
   "metadata": {},
   "outputs": [],
   "source": [
    "l.to_csv(\"../data/raw/load/weather.csv\", index=False)"
   ]
  }
 ],
 "metadata": {
  "kernelspec": {
   "display_name": "py_pred",
   "language": "python",
   "name": "python3"
  },
  "language_info": {
   "codemirror_mode": {
    "name": "ipython",
    "version": 3
   },
   "file_extension": ".py",
   "mimetype": "text/x-python",
   "name": "python",
   "nbconvert_exporter": "python",
   "pygments_lexer": "ipython3",
   "version": "3.10.14"
  }
 },
 "nbformat": 4,
 "nbformat_minor": 5
}
