{
 "cells": [
  {
   "cell_type": "code",
   "execution_count": 1,
   "id": "fae7c74c",
   "metadata": {},
   "outputs": [],
   "source": [
    "import os\n",
    "import time\n",
    "from argparse import ArgumentParser\n",
    "\n",
    "import pandas as pd\n",
    "import numpy as np\n",
    "import psycopg2"
   ]
  },
  {
   "cell_type": "code",
   "execution_count": 2,
   "id": "e4be0fd1",
   "metadata": {},
   "outputs": [],
   "source": [
    "CREATE_LOAD_SITE = \"\"\"\n",
    "CREATE TABLE IF NOT EXISTS load_site (\n",
    "    id SERIAL PRIMARY KEY,\n",
    "    load_code TEXT UNIQUE NOT NULL,\n",
    "    location TEXT,\n",
    "    description TEXT\n",
    ");\n",
    "\"\"\""
   ]
  },
  {
   "cell_type": "code",
   "execution_count": 3,
   "id": "3b4649d3",
   "metadata": {},
   "outputs": [],
   "source": [
    "CREATE_SOLAR_SITE = \"\"\"\n",
    "CREATE TABLE IF NOT EXISTS solar_site (\n",
    "    id SERIAL PRIMARY KEY,\n",
    "    solar_code TEXT UNIQUE NOT NULL,\n",
    "    load_id INTEGER NOT NULL,\n",
    "    panel_capacity_kw FLOAT,\n",
    "    FOREIGN KEY (load_id) REFERENCES load_site(id)\n",
    ");\n",
    "\"\"\""
   ]
  },
  {
   "cell_type": "code",
   "execution_count": 4,
   "id": "29d0d4cb",
   "metadata": {},
   "outputs": [],
   "source": [
    "CREATE_LOAD_DATA = \"\"\"\n",
    "CREATE TABLE IF NOT EXISTS load_data (\n",
    "    id SERIAL PRIMARY KEY,\n",
    "    timestamp TIMESTAMP NOT NULL,\n",
    "    load_id INTEGER NOT NULL,\n",
    "    demand FLOAT,\n",
    "    FOREIGN KEY (load_id) REFERENCES load_site(id),\n",
    "    UNIQUE (timestamp, load_id)\n",
    ");\n",
    "\"\"\"\n",
    "\n",
    "CREATE_SOLAR_DATA= \"\"\"\n",
    "CREATE TABLE IF NOT EXISTS solar_data (\n",
    "    id SERIAL PRIMARY KEY,\n",
    "    timestamp TIMESTAMP NOT NULL,\n",
    "    solar_id INTEGER NOT NULL,\n",
    "    generation FLOAT,\n",
    "    FOREIGN KEY (solar_id) REFERENCES solar_site(id),\n",
    "    UNIQUE (timestamp, solar_id)\n",
    ");\n",
    "\"\"\""
   ]
  },
  {
   "cell_type": "code",
   "execution_count": 5,
   "id": "aefcce00",
   "metadata": {},
   "outputs": [],
   "source": [
    "CREATE_LOAD_WEATHER = \"\"\"\n",
    "CREATE TABLE IF NOT EXISTS load_weather (\n",
    "    id SERIAL PRIMARY KEY,\n",
    "    timestamp TIMESTAMP NOT NULL,\n",
    "    load_id INTEGER NOT NULL,\n",
    "    temperature FLOAT,\n",
    "    humidity FLOAT,\n",
    "    FOREIGN KEY (load_id) REFERENCES load_site(id),\n",
    "    UNIQUE (timestamp, load_id)\n",
    ");\n",
    "\"\"\"\n",
    "\n",
    "CREATE_SOLAR_WEATHER = \"\"\"\n",
    "CREATE TABLE IF NOT EXISTS solar_weather (\n",
    "    id SERIAL PRIMARY KEY,\n",
    "    timestamp TIMESTAMP NOT NULL,\n",
    "    solar_id INTEGER NOT NULL,\n",
    "    temperature FLOAT,\n",
    "    humidity FLOAT,\n",
    "    wind_speed FLOAT,\n",
    "    wind_direction FLOAT,\n",
    "    cloud_cover VARCHAR(20),\n",
    "    FOREIGN KEY (solar_id) REFERENCES solar_site(id),\n",
    "    UNIQUE (timestamp, solar_id)\n",
    ");\n",
    "\"\"\""
   ]
  },
  {
   "cell_type": "code",
   "execution_count": 6,
   "id": "da164bf8",
   "metadata": {},
   "outputs": [],
   "source": [
    "db_connect = psycopg2.connect(\n",
    "    user=\"admin\",\n",
    "    password=\"1234\",\n",
    "    host='localhost',\n",
    "    port=5432,\n",
    "    database=\"machinedb\",\n",
    ")"
   ]
  },
  {
   "cell_type": "code",
   "execution_count": 7,
   "id": "b760874e",
   "metadata": {},
   "outputs": [],
   "source": [
    "with db_connect.cursor() as cur:\n",
    "    cur.execute(CREATE_LOAD_SITE)\n",
    "    cur.execute(CREATE_SOLAR_SITE)\n",
    "    db_connect.commit()"
   ]
  },
  {
   "cell_type": "code",
   "execution_count": 8,
   "id": "f6765e1b",
   "metadata": {},
   "outputs": [],
   "source": [
    "with db_connect.cursor() as cur:\n",
    "    cur.execute(CREATE_LOAD_DATA)\n",
    "    cur.execute(CREATE_SOLAR_DATA)\n",
    "    db_connect.commit()"
   ]
  },
  {
   "cell_type": "code",
   "execution_count": 9,
   "id": "8bdf9a85",
   "metadata": {},
   "outputs": [],
   "source": [
    "with db_connect.cursor() as cur:\n",
    "    cur.execute(CREATE_LOAD_WEATHER)\n",
    "    cur.execute(CREATE_SOLAR_WEATHER)\n",
    "    db_connect.commit()"
   ]
  },
  {
   "cell_type": "code",
   "execution_count": 10,
   "id": "62b5cc6d",
   "metadata": {},
   "outputs": [],
   "source": [
    "INSERT_LOAD_SITE = \"\"\"INSERT INTO load_site (load_code, location, description) VALUES\n",
    "('LOAD_001', 'GWANGJU', 'factory');\"\"\"\n",
    "\n",
    "INSERT_SOLAR_SITE = \"\"\"INSERT INTO solar_site (solar_code, load_id, panel_capacity_kw) VALUES\n",
    "('SOLAR_001', 1, 500),\n",
    "('SOLAR_002', 1, 500),\n",
    "('SOLAR_003', 1, 500),\n",
    "('SOLAR_004', 1, 500),\n",
    "('SOLAR_005', 1, 500);\"\"\"\n",
    "\n",
    "with db_connect.cursor() as cur:\n",
    "    cur.execute(INSERT_LOAD_SITE)\n",
    "    cur.execute(INSERT_SOLAR_SITE)\n",
    "    db_connect.commit()"
   ]
  },
  {
   "cell_type": "code",
   "execution_count": 11,
   "id": "aff30f10",
   "metadata": {},
   "outputs": [],
   "source": [
    "import sys\n",
    "sys.path.append(\"/home/moon/project/prediction-project\")"
   ]
  },
  {
   "cell_type": "code",
   "execution_count": 12,
   "id": "3c602141",
   "metadata": {},
   "outputs": [],
   "source": [
    "load = pd.read_csv(\"../data/raw/load/load.csv\")\n",
    "load_weather = pd.read_csv(\"../data/raw/load/load_weather.csv\")\n",
    "solar = pd.read_csv(\"../data/raw/solar/solars.csv\")\n",
    "solar_weather = pd.read_csv(\"../data/raw/solar/weather.csv\")"
   ]
  },
  {
   "cell_type": "code",
   "execution_count": 37,
   "id": "a9672b13",
   "metadata": {},
   "outputs": [
    {
     "data": {
      "text/plain": [
       "datetime           0\n",
       "id                 0\n",
       "power              0\n",
       "temperature       20\n",
       "wind_speed         5\n",
       "wind_direction     5\n",
       "humidity           5\n",
       "cloud              0\n",
       "dtype: int64"
      ]
     },
     "execution_count": 37,
     "metadata": {},
     "output_type": "execute_result"
    }
   ],
   "source": [
    "solar[\"datetime\"] = pd.to_datetime(solar[\"datetime\"])\n",
    "solar_weather[\"datetime\"] = pd.to_datetime(solar_weather[\"datetime\"])\n",
    "solar_df = pd.merge(solar, solar_weather, on=\"datetime\", how=\"left\")\n",
    "solar_df.isnull().sum()"
   ]
  },
  {
   "cell_type": "code",
   "execution_count": 38,
   "id": "c6345dc1",
   "metadata": {},
   "outputs": [],
   "source": [
    "solar_df.ffill(inplace=True)"
   ]
  },
  {
   "cell_type": "code",
   "execution_count": 39,
   "id": "6b0e68c7",
   "metadata": {},
   "outputs": [
    {
     "data": {
      "text/plain": [
       "datetime          0\n",
       "id                0\n",
       "power             0\n",
       "temperature       0\n",
       "wind_speed        0\n",
       "wind_direction    0\n",
       "humidity          0\n",
       "cloud             0\n",
       "dtype: int64"
      ]
     },
     "execution_count": 39,
     "metadata": {},
     "output_type": "execute_result"
    }
   ],
   "source": [
    "solar_df.isnull().sum()"
   ]
  },
  {
   "cell_type": "code",
   "execution_count": 16,
   "id": "c51058b2",
   "metadata": {},
   "outputs": [],
   "source": [
    "load_df = pd.concat([load, load_weather], axis=1)\n",
    "solar_df = pd.concat([solar, solar_weather], axis=1)"
   ]
  },
  {
   "cell_type": "code",
   "execution_count": 17,
   "id": "9fac9d82",
   "metadata": {},
   "outputs": [
    {
     "data": {
      "text/html": [
       "<div>\n",
       "<style scoped>\n",
       "    .dataframe tbody tr th:only-of-type {\n",
       "        vertical-align: middle;\n",
       "    }\n",
       "\n",
       "    .dataframe tbody tr th {\n",
       "        vertical-align: top;\n",
       "    }\n",
       "\n",
       "    .dataframe thead th {\n",
       "        text-align: right;\n",
       "    }\n",
       "</style>\n",
       "<table border=\"1\" class=\"dataframe\">\n",
       "  <thead>\n",
       "    <tr style=\"text-align: right;\">\n",
       "      <th></th>\n",
       "      <th>id</th>\n",
       "      <th>load</th>\n",
       "      <th>datetime</th>\n",
       "      <th>temperature</th>\n",
       "      <th>humidity</th>\n",
       "    </tr>\n",
       "  </thead>\n",
       "  <tbody>\n",
       "    <tr>\n",
       "      <th>0</th>\n",
       "      <td>1</td>\n",
       "      <td>2456.0425</td>\n",
       "      <td>2016-01-01 0:00</td>\n",
       "      <td>3.0</td>\n",
       "      <td>60.6</td>\n",
       "    </tr>\n",
       "    <tr>\n",
       "      <th>1</th>\n",
       "      <td>1</td>\n",
       "      <td>2570.6650</td>\n",
       "      <td>2016-01-01 1:00</td>\n",
       "      <td>2.6</td>\n",
       "      <td>60.8</td>\n",
       "    </tr>\n",
       "    <tr>\n",
       "      <th>2</th>\n",
       "      <td>1</td>\n",
       "      <td>2389.2700</td>\n",
       "      <td>2016-01-01 2:00</td>\n",
       "      <td>2.6</td>\n",
       "      <td>59.6</td>\n",
       "    </tr>\n",
       "    <tr>\n",
       "      <th>3</th>\n",
       "      <td>1</td>\n",
       "      <td>2330.2925</td>\n",
       "      <td>2016-01-01 3:00</td>\n",
       "      <td>2.1</td>\n",
       "      <td>62.4</td>\n",
       "    </tr>\n",
       "    <tr>\n",
       "      <th>4</th>\n",
       "      <td>1</td>\n",
       "      <td>2244.0450</td>\n",
       "      <td>2016-01-01 4:00</td>\n",
       "      <td>2.0</td>\n",
       "      <td>62.4</td>\n",
       "    </tr>\n",
       "  </tbody>\n",
       "</table>\n",
       "</div>"
      ],
      "text/plain": [
       "   id       load         datetime  temperature  humidity\n",
       "0   1  2456.0425  2016-01-01 0:00          3.0      60.6\n",
       "1   1  2570.6650  2016-01-01 1:00          2.6      60.8\n",
       "2   1  2389.2700  2016-01-01 2:00          2.6      59.6\n",
       "3   1  2330.2925  2016-01-01 3:00          2.1      62.4\n",
       "4   1  2244.0450  2016-01-01 4:00          2.0      62.4"
      ]
     },
     "execution_count": 17,
     "metadata": {},
     "output_type": "execute_result"
    }
   ],
   "source": [
    "load_df.head()"
   ]
  },
  {
   "cell_type": "code",
   "execution_count": 18,
   "id": "9a9ceaec",
   "metadata": {},
   "outputs": [
    {
     "data": {
      "text/html": [
       "<div>\n",
       "<style scoped>\n",
       "    .dataframe tbody tr th:only-of-type {\n",
       "        vertical-align: middle;\n",
       "    }\n",
       "\n",
       "    .dataframe tbody tr th {\n",
       "        vertical-align: top;\n",
       "    }\n",
       "\n",
       "    .dataframe thead th {\n",
       "        text-align: right;\n",
       "    }\n",
       "</style>\n",
       "<table border=\"1\" class=\"dataframe\">\n",
       "  <thead>\n",
       "    <tr style=\"text-align: right;\">\n",
       "      <th></th>\n",
       "      <th>datetime</th>\n",
       "      <th>id</th>\n",
       "      <th>power</th>\n",
       "      <th>datetime</th>\n",
       "      <th>temperature</th>\n",
       "      <th>wind_speed</th>\n",
       "      <th>wind_direction</th>\n",
       "      <th>humidity</th>\n",
       "      <th>cloud</th>\n",
       "    </tr>\n",
       "  </thead>\n",
       "  <tbody>\n",
       "    <tr>\n",
       "      <th>0</th>\n",
       "      <td>2018-03-01 00:00:00</td>\n",
       "      <td>1</td>\n",
       "      <td>0.0</td>\n",
       "      <td>2018-03-01 00:00:00</td>\n",
       "      <td>8.2</td>\n",
       "      <td>3.9</td>\n",
       "      <td>340.0</td>\n",
       "      <td>98.0</td>\n",
       "      <td>Mostly</td>\n",
       "    </tr>\n",
       "    <tr>\n",
       "      <th>1</th>\n",
       "      <td>2018-03-01 01:00:00</td>\n",
       "      <td>1</td>\n",
       "      <td>0.0</td>\n",
       "      <td>2018-03-01 01:00:00</td>\n",
       "      <td>7.0</td>\n",
       "      <td>4.1</td>\n",
       "      <td>320.0</td>\n",
       "      <td>97.0</td>\n",
       "      <td>Mostly</td>\n",
       "    </tr>\n",
       "    <tr>\n",
       "      <th>2</th>\n",
       "      <td>2018-03-01 02:00:00</td>\n",
       "      <td>1</td>\n",
       "      <td>0.0</td>\n",
       "      <td>2018-03-01 02:00:00</td>\n",
       "      <td>6.5</td>\n",
       "      <td>5.9</td>\n",
       "      <td>290.0</td>\n",
       "      <td>80.0</td>\n",
       "      <td>Mostly</td>\n",
       "    </tr>\n",
       "    <tr>\n",
       "      <th>3</th>\n",
       "      <td>2018-03-01 03:00:00</td>\n",
       "      <td>1</td>\n",
       "      <td>0.0</td>\n",
       "      <td>2018-03-01 03:00:00</td>\n",
       "      <td>6.2</td>\n",
       "      <td>4.6</td>\n",
       "      <td>320.0</td>\n",
       "      <td>79.0</td>\n",
       "      <td>Clear</td>\n",
       "    </tr>\n",
       "    <tr>\n",
       "      <th>4</th>\n",
       "      <td>2018-03-01 04:00:00</td>\n",
       "      <td>1</td>\n",
       "      <td>0.0</td>\n",
       "      <td>2018-03-01 04:00:00</td>\n",
       "      <td>6.7</td>\n",
       "      <td>4.5</td>\n",
       "      <td>320.0</td>\n",
       "      <td>73.0</td>\n",
       "      <td>Clear</td>\n",
       "    </tr>\n",
       "  </tbody>\n",
       "</table>\n",
       "</div>"
      ],
      "text/plain": [
       "             datetime  id  power            datetime  temperature  wind_speed  \\\n",
       "0 2018-03-01 00:00:00   1    0.0 2018-03-01 00:00:00          8.2         3.9   \n",
       "1 2018-03-01 01:00:00   1    0.0 2018-03-01 01:00:00          7.0         4.1   \n",
       "2 2018-03-01 02:00:00   1    0.0 2018-03-01 02:00:00          6.5         5.9   \n",
       "3 2018-03-01 03:00:00   1    0.0 2018-03-01 03:00:00          6.2         4.6   \n",
       "4 2018-03-01 04:00:00   1    0.0 2018-03-01 04:00:00          6.7         4.5   \n",
       "\n",
       "   wind_direction  humidity   cloud  \n",
       "0           340.0      98.0  Mostly  \n",
       "1           320.0      97.0  Mostly  \n",
       "2           290.0      80.0  Mostly  \n",
       "3           320.0      79.0   Clear  \n",
       "4           320.0      73.0   Clear  "
      ]
     },
     "execution_count": 18,
     "metadata": {},
     "output_type": "execute_result"
    }
   ],
   "source": [
    "solar_df.head()"
   ]
  },
  {
   "cell_type": "code",
   "execution_count": 19,
   "id": "d2ad411a",
   "metadata": {},
   "outputs": [],
   "source": [
    "def df_to_insert_sql(df, table_name, column_order=None):\n",
    "    \"\"\" DataFrame을 INSERT INTO SQL 문자열로 변환 \"\"\"\n",
    "    if column_order:\n",
    "        df = df[column_order]\n",
    "\n",
    "    values = []\n",
    "    for row in df.itertuples(index=False, name=None):\n",
    "        formatted_row = []\n",
    "        for item in row:\n",
    "            if pd.isna(item):\n",
    "                formatted_row.append('NULL')\n",
    "            elif isinstance(item, str):\n",
    "                formatted_row.append(f\"'{item}'\")\n",
    "            elif isinstance(item, pd.Timestamp):\n",
    "                formatted_row.append(f\"'{item.strftime('%Y-%m-%d %H:%M:%S')}'\")\n",
    "            else:\n",
    "                formatted_row.append(str(item))\n",
    "        values.append(f\"({', '.join(formatted_row)})\")\n",
    "\n",
    "    columns = column_order if column_order else df.columns\n",
    "    sql = f\"INSERT INTO {table_name} ({', '.join(columns)}) VALUES\\n\" + \",\\n\".join(values) + \";\"\n",
    "    return sql"
   ]
  },
  {
   "cell_type": "code",
   "execution_count": 20,
   "id": "018586a4",
   "metadata": {},
   "outputs": [],
   "source": [
    "load_df.rename(columns={\"id\": \"load_id\", \"load\": \"demand\", \"datetime\": \"timestamp\"}, inplace=True)"
   ]
  },
  {
   "cell_type": "code",
   "execution_count": 21,
   "id": "d72ab1fc",
   "metadata": {},
   "outputs": [],
   "source": [
    "load_df[\"timestamp\"] = pd.to_datetime(load_df[\"timestamp\"])"
   ]
  },
  {
   "cell_type": "code",
   "execution_count": 23,
   "id": "c4f89176",
   "metadata": {},
   "outputs": [
    {
     "data": {
      "text/plain": [
       "(8784, 5)"
      ]
     },
     "execution_count": 23,
     "metadata": {},
     "output_type": "execute_result"
    }
   ],
   "source": [
    "load_df.shape"
   ]
  },
  {
   "cell_type": "code",
   "execution_count": 30,
   "id": "5a740a42",
   "metadata": {},
   "outputs": [],
   "source": [
    "\n",
    "load_df[\"timestamp\"] = pd.date_range(start=\"2024-05-18\", end=\"2025-05-19\", freq=\"h\")[:-1]"
   ]
  },
  {
   "cell_type": "code",
   "execution_count": 73,
   "id": "c5cdcd88",
   "metadata": {},
   "outputs": [],
   "source": [
    "load_df[[\"timestamp\", \"load_id\", \"temperature\", \"humidity\", \"demand\"]].to_csv(\"../data/raw/load/load_data.csv\", index=False)"
   ]
  },
  {
   "cell_type": "code",
   "execution_count": 31,
   "id": "00a7e9ef",
   "metadata": {},
   "outputs": [],
   "source": [
    "insert_sql = df_to_insert_sql(load_df[[\"timestamp\", \"load_id\", \"demand\"]], \"load_data\", [\"timestamp\", \"load_id\", \"demand\"])"
   ]
  },
  {
   "cell_type": "code",
   "execution_count": 32,
   "id": "0dab0564",
   "metadata": {},
   "outputs": [],
   "source": [
    "try:\n",
    "    with db_connect.cursor() as cur:\n",
    "        cur.execute(insert_sql)\n",
    "        db_connect.commit()\n",
    "except Exception as e:\n",
    "    db_connect.rollback()\n",
    "    print(\"[ERROR] SQL 실행 중 오류 발생:\", e)\n",
    "    print(\"실행 SQL:\\n\", insert_sql[:500], \"...\")  # 너무 길면 일부만 출력"
   ]
  },
  {
   "cell_type": "code",
   "execution_count": 33,
   "id": "c8bb0d1b",
   "metadata": {},
   "outputs": [],
   "source": [
    "insert_sql = df_to_insert_sql(load_df[[\"timestamp\", \"load_id\", \"temperature\", \"humidity\"]], \"load_weather\", [\"timestamp\", \"load_id\", \"temperature\", \"humidity\"])"
   ]
  },
  {
   "cell_type": "code",
   "execution_count": 34,
   "id": "ce0185f1",
   "metadata": {},
   "outputs": [],
   "source": [
    "try:\n",
    "    with db_connect.cursor() as cur:\n",
    "        cur.execute(insert_sql)\n",
    "        db_connect.commit()\n",
    "except Exception as e:\n",
    "    db_connect.rollback()\n",
    "    print(\"[ERROR] SQL 실행 중 오류 발생:\", e)\n",
    "    print(\"실행 SQL:\\n\", insert_sql[:500], \"...\")  # 너무 길면 일부만 출력"
   ]
  },
  {
   "cell_type": "code",
   "execution_count": 62,
   "id": "6aa039fe",
   "metadata": {},
   "outputs": [],
   "source": [
    "date_range = pd.date_range(start=\"2024-03-01\", end=\"2025-05-19\", freq=\"h\")[:-1]"
   ]
  },
  {
   "cell_type": "code",
   "execution_count": 99,
   "id": "a67dc79b",
   "metadata": {},
   "outputs": [],
   "source": [
    "solar_1 = solar_df[solar_df[\"id\"] == 1].query(\"datetime > '2019-03-01 00:00:00' and datetime < '2020-05-18 23:00:00'\")[:-22]\n",
    "solar_1[\"datetime\"] = date_range\n",
    "\n",
    "solar_2 = solar_df[solar_df[\"id\"] == 2].query(\"datetime > '2019-03-01 00:00:00' and datetime < '2020-05-18 23:00:00'\")[:-22]\n",
    "solar_2[\"datetime\"] = date_range\n",
    "\n",
    "solar_3 = solar_df[solar_df[\"id\"] == 3].query(\"datetime > '2019-03-01 00:00:00' and datetime < '2020-05-18 23:00:00'\")[:-22]\n",
    "solar_3[\"datetime\"] = date_range\n",
    "\n",
    "solar_4 = solar_df[solar_df[\"id\"] == 4].query(\"datetime > '2019-03-01 00:00:00' and datetime < '2020-05-18 23:00:00'\")[:-22]\n",
    "solar_4[\"datetime\"] = date_range\n",
    "\n",
    "solar_5 = solar_df[solar_df[\"id\"] == 5].query(\"datetime > '2019-03-01 00:00:00' and datetime < '2020-05-18 23:00:00'\")[:-22]\n",
    "solar_5[\"datetime\"] = date_range"
   ]
  },
  {
   "cell_type": "code",
   "execution_count": 100,
   "id": "951e0a70",
   "metadata": {},
   "outputs": [],
   "source": [
    "solar_1.rename(columns={\"id\": \"solar_id\", \"power\": \"generation\", \"datetime\": \"timestamp\", \"cloud\": \"cloud_cover\"}, inplace=True)\n",
    "solar_2.rename(columns={\"id\": \"solar_id\", \"power\": \"generation\", \"datetime\": \"timestamp\", \"cloud\": \"cloud_cover\"}, inplace=True)\n",
    "solar_3.rename(columns={\"id\": \"solar_id\", \"power\": \"generation\", \"datetime\": \"timestamp\", \"cloud\": \"cloud_cover\"}, inplace=True)\n",
    "solar_4.rename(columns={\"id\": \"solar_id\", \"power\": \"generation\", \"datetime\": \"timestamp\", \"cloud\": \"cloud_cover\"}, inplace=True)\n",
    "solar_5.rename(columns={\"id\": \"solar_id\", \"power\": \"generation\", \"datetime\": \"timestamp\", \"cloud\": \"cloud_cover\"}, inplace=True)"
   ]
  },
  {
   "cell_type": "code",
   "execution_count": 101,
   "id": "a168b2ca",
   "metadata": {},
   "outputs": [],
   "source": [
    "pd.concat([solar_1, solar_2, solar_3, solar_4, solar_5], axis=0).reset_index(drop=True).to_csv(\"../data/raw/solar/solar_data.csv\", index=False)"
   ]
  },
  {
   "cell_type": "code",
   "execution_count": null,
   "id": "47c0303d",
   "metadata": {},
   "outputs": [],
   "source": [
    "insert_sql = df_to_insert_sql(solar_df[[\"timestamp\", \"solar_id\", \"generation\"]], \"solar_data\", [\"timestamp\", \"solar_id\", \"generation\"])"
   ]
  },
  {
   "cell_type": "code",
   "execution_count": 71,
   "id": "329ee073",
   "metadata": {},
   "outputs": [],
   "source": [
    "try:\n",
    "    with db_connect.cursor() as cur:\n",
    "        cur.execute(insert_sql)\n",
    "        db_connect.commit()\n",
    "except Exception as e:\n",
    "    db_connect.rollback()\n",
    "    print(\"[ERROR] SQL 실행 중 오류 발생:\", e)\n",
    "    print(\"실행 SQL:\\n\", insert_sql[:500], \"...\")  # 너무 길면 일부만 출력"
   ]
  },
  {
   "cell_type": "code",
   "execution_count": 75,
   "id": "9f517b5c",
   "metadata": {},
   "outputs": [],
   "source": [
    "insert_sql = df_to_insert_sql(\n",
    "    solar_df[[\"timestamp\", \"solar_id\", \"temperature\", \"humidity\",\"wind_speed\", \"wind_direction\", \"cloud_cover\"]], \n",
    "    \"solar_weather\", \n",
    "    [\"timestamp\", \"solar_id\", \"temperature\", \"humidity\",\"wind_speed\", \"wind_direction\", \"cloud_cover\"])"
   ]
  },
  {
   "cell_type": "code",
   "execution_count": 76,
   "id": "360c5bc1",
   "metadata": {},
   "outputs": [],
   "source": [
    "try:\n",
    "    with db_connect.cursor() as cur:\n",
    "        cur.execute(insert_sql)\n",
    "        db_connect.commit()\n",
    "except Exception as e:\n",
    "    db_connect.rollback()\n",
    "    print(\"[ERROR] SQL 실행 중 오류 발생:\", e)\n",
    "    print(\"실행 SQL:\\n\", insert_sql[:500], \"...\")  # 너무 길면 일부만 출력"
   ]
  },
  {
   "cell_type": "code",
   "execution_count": 77,
   "id": "ccb54bb9",
   "metadata": {},
   "outputs": [],
   "source": [
    "def drop_table_if_exists(table_name):\n",
    "    \"\"\" 테이블이 존재하면 삭제 \"\"\"\n",
    "    with db_connect.cursor() as cur:\n",
    "        cur.execute(f\"DROP TABLE IF EXISTS {table_name};\")\n",
    "        db_connect.commit()"
   ]
  },
  {
   "cell_type": "code",
   "execution_count": 79,
   "id": "3ff7a8f2",
   "metadata": {},
   "outputs": [],
   "source": [
    "drop_table_if_exists(\"load_data\")\n",
    "drop_table_if_exists(\"load_weather\")\n",
    "drop_table_if_exists(\"solar_data\")\n",
    "drop_table_if_exists(\"solar_weather\")\n",
    "drop_table_if_exists(\"solar_site\")\n",
    "drop_table_if_exists(\"load_site\")\n"
   ]
  },
  {
   "cell_type": "code",
   "execution_count": 102,
   "id": "b9738991",
   "metadata": {},
   "outputs": [],
   "source": [
    "solar_data = pd.read_csv(\"../data/raw/solar/solar_data.csv\")\n",
    "load_data = pd.read_csv(\"../data/raw/load/load_data.csv\")"
   ]
  },
  {
   "cell_type": "code",
   "execution_count": null,
   "id": "a18a8482",
   "metadata": {},
   "outputs": [],
   "source": [
    "def insert_load(load_data):\n",
    "    \"\"\" load_data DataFrame을 PostgreSQL에 삽입 \"\"\"\n",
    "    insert_sql = df_to_insert_sql(load_data, \"load_data\", [\"timestamp\", \"load_id\", \"demand\"])\n",
    "    try:\n",
    "        with db_connect.cursor() as cur:\n",
    "            cur.execute(insert_sql)\n",
    "            db_connect.commit()\n",
    "    except Exception as e:\n",
    "        db_connect.rollback()\n",
    "        print(\"[ERROR] SQL 실행 중 오류 발생:\", e)\n",
    "        print(\"실행 SQL:\\n\", insert_sql[:500], \"...\")  # 너무 길면 일부만 출력\n",
    "def insert_load_weather(load_data):\n",
    "    \"\"\" load_weather DataFrame을 PostgreSQL에 삽입 \"\"\"\n",
    "    insert_sql = df_to_insert_sql(load_data, \"load_weather\", [\"timestamp\", \"load_id\", \"temperature\", \"humidity\"])\n",
    "    try:\n",
    "        with db_connect.cursor() as cur:\n",
    "            cur.execute(insert_sql)\n",
    "            db_connect.commit()\n",
    "    except Exception as e:\n",
    "        db_connect.rollback()\n",
    "        print(\"[ERROR] SQL 실행 중 오류 발생:\", e)\n",
    "        print(\"실행 SQL:\\n\", insert_sql[:500], \"...\")  # 너무 길면 일부만 출력\n",
    "        \n",
    "def insert_solar(solar_data):\n",
    "    \"\"\" solar_data DataFrame을 PostgreSQL에 삽입 \"\"\"\n",
    "    insert_sql = df_to_insert_sql(solar_data, \"solar_data\", [\"timestamp\", \"solar_id\", \"generation\"])\n",
    "    try:\n",
    "        with db_connect.cursor() as cur:\n",
    "            cur.execute(insert_sql)\n",
    "            db_connect.commit()\n",
    "    except Exception as e:\n",
    "        db_connect.rollback()\n",
    "        print(\"[ERROR] SQL 실행 중 오류 발생:\", e)\n",
    "        print(\"실행 SQL:\\n\", insert_sql[:500], \"...\")  # 너무 길면 일부만 출력\n",
    "        \n",
    "def insert_solar_weather(solar_data):\n",
    "    \"\"\" solar_weather DataFrame을 PostgreSQL에 삽입 \"\"\"\n",
    "    insert_sql = df_to_insert_sql(solar_data, \"solar_weather\", [\"timestamp\", \"solar_id\", \"temperature\", \"humidity\", \"wind_speed\", \"wind_direction\", \"cloud_cover\"])\n",
    "    try:\n",
    "        with db_connect.cursor() as cur:\n",
    "            cur.execute(insert_sql)\n",
    "            db_connect.commit()\n",
    "    except Exception as e:\n",
    "        db_connect.rollback()\n",
    "        print(\"[ERROR] SQL 실행 중 오류 발생:\", e)\n",
    "        print(\"실행 SQL:\\n\", insert_sql[:500], \"...\")  # 너무 길면 일부만 출력"
   ]
  },
  {
   "cell_type": "code",
   "execution_count": 117,
   "id": "4e56325d",
   "metadata": {},
   "outputs": [],
   "source": [
    "insert_sql = df_to_insert_sql(solar_data, \"solar_data\", [\"timestamp\", \"solar_id\", \"generation\"])\n",
    "try:\n",
    "    with db_connect.cursor() as cur:\n",
    "        cur.execute(insert_sql)\n",
    "        db_connect.commit()\n",
    "except Exception as e:\n",
    "    db_connect.rollback()\n",
    "    print(\"[ERROR] SQL 실행 중 오류 발생:\", e)\n",
    "    print(\"실행 SQL:\\n\", insert_sql[:500], \"...\")  # 너무 길면 일부만 출력"
   ]
  },
  {
   "cell_type": "code",
   "execution_count": 118,
   "id": "f321303c",
   "metadata": {},
   "outputs": [],
   "source": [
    "insert_sql = df_to_insert_sql(\n",
    "    solar_data[[\"timestamp\", \"solar_id\", \"temperature\", \"humidity\",\"wind_speed\", \"wind_direction\", \"cloud_cover\"]], \n",
    "    \"solar_weather\", \n",
    "    [\"timestamp\", \"solar_id\", \"temperature\", \"humidity\",\"wind_speed\", \"wind_direction\", \"cloud_cover\"])\n",
    "try:\n",
    "    with db_connect.cursor() as cur:\n",
    "        cur.execute(insert_sql)\n",
    "        db_connect.commit()\n",
    "except Exception as e:\n",
    "    db_connect.rollback()\n",
    "    print(\"[ERROR] SQL 실행 중 오류 발생:\", e)\n",
    "    print(\"실행 SQL:\\n\", insert_sql[:500], \"...\")  # 너무 길면 일부만 출력"
   ]
  },
  {
   "cell_type": "code",
   "execution_count": null,
   "id": "e0a15492",
   "metadata": {},
   "outputs": [],
   "source": [
    "from datetime import datetime, timedelta"
   ]
  },
  {
   "cell_type": "code",
   "execution_count": 113,
   "id": "77ba649b",
   "metadata": {},
   "outputs": [],
   "source": [
    "current_hour = datetime.now().hour\n",
    "solar_1_sample = solar_data[(pd.to_datetime(solar_data[\"timestamp\"]).dt.hour == current_hour) & (solar_data[\"solar_id\"] == 1)].sample(1)\n",
    "solar_1_sample[\"timestamp\"] = pd.Timestamp.now().strftime('%Y-%m-%d %H:00:00')\n",
    "\n",
    "solar_2_sample = solar_data[(pd.to_datetime(solar_data[\"timestamp\"]).dt.hour == current_hour) & (solar_data[\"solar_id\"] == 2)].sample(1)\n",
    "solar_2_sample[\"timestamp\"] = pd.Timestamp.now().strftime('%Y-%m-%d %H:00:00')\n",
    "\n",
    "solar_3_sample = solar_data[(pd.to_datetime(solar_data[\"timestamp\"]).dt.hour == current_hour) & (solar_data[\"solar_id\"] == 3)].sample(1)\n",
    "solar_3_sample[\"timestamp\"] = pd.Timestamp.now().strftime('%Y-%m-%d %H:00:00')\n",
    "\n",
    "solar_4_sample = solar_data[(pd.to_datetime(solar_data[\"timestamp\"]).dt.hour == current_hour) & (solar_data[\"solar_id\"] == 4)].sample(1)\n",
    "solar_4_sample[\"timestamp\"] = pd.Timestamp.now().strftime('%Y-%m-%d %H:00:00')\n",
    "\n",
    "solar_5_sample = solar_data[(pd.to_datetime(solar_data[\"timestamp\"]).dt.hour == current_hour) & (solar_data[\"solar_id\"] == 5)].sample(1)\n",
    "solar_5_sample[\"timestamp\"] = pd.Timestamp.now().strftime('%Y-%m-%d %H:00:00')\n"
   ]
  },
  {
   "cell_type": "code",
   "execution_count": 116,
   "id": "b3c01b08",
   "metadata": {},
   "outputs": [],
   "source": [
    "insert_sql = df_to_insert_sql(solar_1_sample, \"solar_data\", [\"timestamp\", \"solar_id\", \"generation\"])\n",
    "try:\n",
    "    with db_connect.cursor() as cur:\n",
    "        cur.execute(insert_sql)\n",
    "        db_connect.commit()\n",
    "except Exception as e:\n",
    "    db_connect.rollback()\n",
    "    print(\"[ERROR] SQL 실행 중 오류 발생:\", e)\n",
    "    print(\"실행 SQL:\\n\", insert_sql, \"...\")  # 너무 길면 일부만 출력"
   ]
  }
 ],
 "metadata": {
  "kernelspec": {
   "display_name": "py_pred",
   "language": "python",
   "name": "python3"
  },
  "language_info": {
   "codemirror_mode": {
    "name": "ipython",
    "version": 3
   },
   "file_extension": ".py",
   "mimetype": "text/x-python",
   "name": "python",
   "nbconvert_exporter": "python",
   "pygments_lexer": "ipython3",
   "version": "3.10.14"
  }
 },
 "nbformat": 4,
 "nbformat_minor": 5
}
